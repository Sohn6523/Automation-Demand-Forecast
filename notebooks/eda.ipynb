{
 "cells": [
  {
   "cell_type": "markdown",
   "metadata": {},
   "source": [
    "# 천안 양산 사업장 수요예측 모델 개선 \n",
    "\n",
    "**due date** : 3/22<p>\n",
    "**goal** : 미래 24개월 장납기 수입 소자 필요량 예측을 위한 Base model 생성<p>\n",
    "**data** : INV_Transaction_Summary \n",
    "+ x1 = 해당 월의 수량\n",
    "+ PO_RECEIPT : 재고수불\n",
    "\n",
    "**참고사항**   \n",
    "+ 대체품 반영 X (-> 과수량 예측 Issue)\n",
    "+ 같은 월에 아이템 코드 중복 있는 경우 merge (-> 추후 필요에 따라 분류)\n",
    "+ 아이템 코드 맨앞 0 누락 주의\n",
    "+ desc 맨 앞 = 제품 타입\n",
    "+ 빈도등급에 따른 처리 방안 (-> 평균 vs 빈도수 ...)\n"
   ]
  },
  {
   "cell_type": "markdown",
   "metadata": {},
   "source": [
    "## setting"
   ]
  },
  {
   "cell_type": "markdown",
   "metadata": {},
   "source": [
    "### library & data import"
   ]
  },
  {
   "cell_type": "code",
   "execution_count": 1,
   "metadata": {},
   "outputs": [],
   "source": [
    "import os\n",
    "import pandas as pd\n",
    "import numpy as np\n",
    "import datetime \n",
    "from prophet import Prophet \n",
    "import matplotlib.pyplot as plt\n",
    "import seaborn as sns\n",
    "import warnings\n",
    "\n",
    "%matplotlib inline\n",
    "warnings.filterwarnings('ignore')"
   ]
  },
  {
   "cell_type": "code",
   "execution_count": 2,
   "metadata": {},
   "outputs": [],
   "source": [
    "inv = pd.read_excel('../data/INV_Transacton_Summary.xlsx', engine = 'openpyxl', sheet_name = 0)\n",
    "df_inv = inv.copy()"
   ]
  },
  {
   "cell_type": "markdown",
   "metadata": {},
   "source": [
    "### data overview"
   ]
  },
  {
   "cell_type": "code",
   "execution_count": 3,
   "metadata": {},
   "outputs": [
    {
     "data": {
      "text/html": [
       "<div>\n",
       "<style scoped>\n",
       "    .dataframe tbody tr th:only-of-type {\n",
       "        vertical-align: middle;\n",
       "    }\n",
       "\n",
       "    .dataframe tbody tr th {\n",
       "        vertical-align: top;\n",
       "    }\n",
       "\n",
       "    .dataframe thead th {\n",
       "        text-align: right;\n",
       "    }\n",
       "</style>\n",
       "<table border=\"1\" class=\"dataframe\">\n",
       "  <thead>\n",
       "    <tr style=\"text-align: right;\">\n",
       "      <th></th>\n",
       "      <th>Unnamed: 0</th>\n",
       "      <th>YYYYMM</th>\n",
       "      <th>IEM_CODE</th>\n",
       "      <th>ITEM_DESCRIPTION</th>\n",
       "      <th>PO_RECEIPT</th>\n",
       "      <th>SPG</th>\n",
       "      <th>UOM</th>\n",
       "      <th>OTHER_ISSUE</th>\n",
       "      <th>OTHER_RECEIPT</th>\n",
       "      <th>SALES_ISSUE</th>\n",
       "      <th>WIP_ISSUE</th>\n",
       "      <th>WIP_RECEIPT</th>\n",
       "    </tr>\n",
       "  </thead>\n",
       "  <tbody>\n",
       "    <tr>\n",
       "      <th>0</th>\n",
       "      <td>0</td>\n",
       "      <td>201401</td>\n",
       "      <td>09010003350</td>\n",
       "      <td>IC,LIN,REF192ES,SMD,R,ANALOG DEVICE,MSL1</td>\n",
       "      <td>3528.0</td>\n",
       "      <td>500</td>\n",
       "      <td>ea</td>\n",
       "      <td>1980.0</td>\n",
       "      <td>1960.0</td>\n",
       "      <td>1960.0</td>\n",
       "      <td>160.0</td>\n",
       "      <td>0.0</td>\n",
       "    </tr>\n",
       "    <tr>\n",
       "      <th>1</th>\n",
       "      <td>1</td>\n",
       "      <td>201402</td>\n",
       "      <td>09010003350</td>\n",
       "      <td>IC,LIN,REF192ES,SMD,R,ANALOG DEVICE,MSL1</td>\n",
       "      <td>1568.0</td>\n",
       "      <td>500</td>\n",
       "      <td>ea</td>\n",
       "      <td>1862.0</td>\n",
       "      <td>1862.0</td>\n",
       "      <td>1862.0</td>\n",
       "      <td>0.0</td>\n",
       "      <td>0.0</td>\n",
       "    </tr>\n",
       "    <tr>\n",
       "      <th>2</th>\n",
       "      <td>2</td>\n",
       "      <td>201403</td>\n",
       "      <td>09010003350</td>\n",
       "      <td>IC,LIN,REF192ES,SMD,R,ANALOG DEVICE,MSL1</td>\n",
       "      <td>2744.0</td>\n",
       "      <td>500</td>\n",
       "      <td>ea</td>\n",
       "      <td>1568.0</td>\n",
       "      <td>1568.0</td>\n",
       "      <td>1568.0</td>\n",
       "      <td>0.0</td>\n",
       "      <td>0.0</td>\n",
       "    </tr>\n",
       "    <tr>\n",
       "      <th>3</th>\n",
       "      <td>3</td>\n",
       "      <td>201404</td>\n",
       "      <td>09010003350</td>\n",
       "      <td>IC,LIN,REF192ES,SMD,R,ANALOG DEVICE,MSL1</td>\n",
       "      <td>2450.0</td>\n",
       "      <td>500</td>\n",
       "      <td>ea</td>\n",
       "      <td>2450.0</td>\n",
       "      <td>2450.0</td>\n",
       "      <td>2450.0</td>\n",
       "      <td>96.0</td>\n",
       "      <td>0.0</td>\n",
       "    </tr>\n",
       "    <tr>\n",
       "      <th>4</th>\n",
       "      <td>4</td>\n",
       "      <td>201405</td>\n",
       "      <td>09010003350</td>\n",
       "      <td>IC,LIN,REF192ES,SMD,R,ANALOG DEVICE,MSL1</td>\n",
       "      <td>392.0</td>\n",
       "      <td>500</td>\n",
       "      <td>ea</td>\n",
       "      <td>2254.0</td>\n",
       "      <td>2254.0</td>\n",
       "      <td>2254.0</td>\n",
       "      <td>20.0</td>\n",
       "      <td>0.0</td>\n",
       "    </tr>\n",
       "  </tbody>\n",
       "</table>\n",
       "</div>"
      ],
      "text/plain": [
       "   Unnamed: 0  YYYYMM     IEM_CODE                          ITEM_DESCRIPTION  \\\n",
       "0           0  201401  09010003350  IC,LIN,REF192ES,SMD,R,ANALOG DEVICE,MSL1   \n",
       "1           1  201402  09010003350  IC,LIN,REF192ES,SMD,R,ANALOG DEVICE,MSL1   \n",
       "2           2  201403  09010003350  IC,LIN,REF192ES,SMD,R,ANALOG DEVICE,MSL1   \n",
       "3           3  201404  09010003350  IC,LIN,REF192ES,SMD,R,ANALOG DEVICE,MSL1   \n",
       "4           4  201405  09010003350  IC,LIN,REF192ES,SMD,R,ANALOG DEVICE,MSL1   \n",
       "\n",
       "   PO_RECEIPT  SPG UOM  OTHER_ISSUE  OTHER_RECEIPT  SALES_ISSUE  WIP_ISSUE  \\\n",
       "0      3528.0  500  ea       1980.0         1960.0       1960.0      160.0   \n",
       "1      1568.0  500  ea       1862.0         1862.0       1862.0        0.0   \n",
       "2      2744.0  500  ea       1568.0         1568.0       1568.0        0.0   \n",
       "3      2450.0  500  ea       2450.0         2450.0       2450.0       96.0   \n",
       "4       392.0  500  ea       2254.0         2254.0       2254.0       20.0   \n",
       "\n",
       "   WIP_RECEIPT  \n",
       "0          0.0  \n",
       "1          0.0  \n",
       "2          0.0  \n",
       "3          0.0  \n",
       "4          0.0  "
      ]
     },
     "execution_count": 3,
     "metadata": {},
     "output_type": "execute_result"
    }
   ],
   "source": [
    "df_inv.head()"
   ]
  },
  {
   "cell_type": "code",
   "execution_count": 47,
   "metadata": {},
   "outputs": [
    {
     "name": "stdout",
     "output_type": "stream",
     "text": [
      "<class 'pandas.core.frame.DataFrame'>\n",
      "RangeIndex: 177961 entries, 0 to 177960\n",
      "Data columns (total 13 columns):\n",
      " #   Column            Non-Null Count   Dtype  \n",
      "---  ------            --------------   -----  \n",
      " 0                     177961 non-null  int64  \n",
      " 1   YYYYMM            177961 non-null  int64  \n",
      " 2   SPG               177961 non-null  int64  \n",
      " 3   IEM_CODE          177961 non-null  object \n",
      " 4   ITEM_DESCRIPTION  177961 non-null  object \n",
      " 5   UOM               177961 non-null  object \n",
      " 6   SUBINV            177961 non-null  object \n",
      " 7   PO_RECEIPT        177961 non-null  int64  \n",
      " 8   WIP_RECEIPT       177961 non-null  int64  \n",
      " 9   OTHER_RECEIPT     177961 non-null  int64  \n",
      " 10  WIP_ISSUE         177961 non-null  float64\n",
      " 11  SALES_ISSUE       177961 non-null  int64  \n",
      " 12  OTHER_ISSUE       177961 non-null  float64\n",
      "dtypes: float64(2), int64(7), object(4)\n",
      "memory usage: 17.7+ MB\n"
     ]
    }
   ],
   "source": [
    "df_inv.info()"
   ]
  },
  {
   "cell_type": "code",
   "execution_count": 3,
   "metadata": {},
   "outputs": [],
   "source": [
    "df_inv = df_inv.drop(df_inv.columns[0], axis = 1)\n",
    "df_inv = df_inv.astype({'YYYYMM':'str'})\n",
    "df_inv['ITEM_TYPE'] = df_inv['ITEM_DESCRIPTION'].str.split(',').str[0]"
   ]
  },
  {
   "cell_type": "code",
   "execution_count": 4,
   "metadata": {},
   "outputs": [
    {
     "name": "stdout",
     "output_type": "stream",
     "text": [
      "주문 정보 총량 : 177961\n",
      "고유 아이템 code : 735\n",
      "고유 아이템 desc : 735\n",
      "고유 아이템 type : 27\n"
     ]
    }
   ],
   "source": [
    "num_order = len(df_inv)\n",
    "num_code = len(set(df_inv['IEM_CODE']))\n",
    "num_item = len(set(df_inv['ITEM_DESCRIPTION']))\n",
    "num_type = len(set(df_inv['ITEM_TYPE']))\n",
    "\n",
    "print(f'주문 정보 총량 : {num_order}')\n",
    "print(f'고유 아이템 code : {num_code}')\n",
    "print(f'고유 아이템 desc : {num_item}')\n",
    "print(f'고유 아이템 type : {num_type}')"
   ]
  },
  {
   "cell_type": "markdown",
   "metadata": {},
   "source": [
    "### preprocess"
   ]
  },
  {
   "cell_type": "code",
   "execution_count": 38,
   "metadata": {},
   "outputs": [],
   "source": [
    "# # date 기준으로 PO_RECEIPT 더하기\n",
    "\n",
    "# dates = df_inv['YYYYMM'].unique()\n",
    "\n",
    "# df_po = pd.DataFrame()\n",
    "# columns = ['YYYYMM']\n",
    "\n",
    "# for i, date in enumerate(dates):\n",
    "#     tmp_date = df_inv.loc[df_inv['YYYYMM'] == date].reset_index(drop=True)\n",
    "\n",
    "#     df_po.loc[i, columns] = tmp_date.loc[0, columns]\n",
    "#     df_po.loc[i, 'PO_TOTAL'] = (tmp_date['PO_RECEIPT']).sum() "
   ]
  },
  {
   "cell_type": "code",
   "execution_count": 8,
   "metadata": {},
   "outputs": [],
   "source": [
    "# df_po.columns = ['ds', 'y']"
   ]
  },
  {
   "cell_type": "code",
   "execution_count": 14,
   "metadata": {},
   "outputs": [],
   "source": [
    "# from datetime import datetime\n",
    "# df_po['ds'] = df_po['ds'].apply(lambda _ : datetime.strptime(_,'%Y%m'))\n",
    "# df_po['ds']"
   ]
  },
  {
   "cell_type": "markdown",
   "metadata": {},
   "source": []
  }
 ],
 "metadata": {
  "interpreter": {
   "hash": "5fec0c48c6246c99bbaa298add9fc73d328ffc838dbe0645d2b560e9bc87409c"
  },
  "kernelspec": {
   "display_name": "Python 3.9.4 64-bit ('fcstenv')",
   "language": "python",
   "name": "python3"
  },
  "language_info": {
   "codemirror_mode": {
    "name": "ipython",
    "version": 3
   },
   "file_extension": ".py",
   "mimetype": "text/x-python",
   "name": "python",
   "nbconvert_exporter": "python",
   "pygments_lexer": "ipython3",
   "version": "3.9.4"
  },
  "orig_nbformat": 4
 },
 "nbformat": 4,
 "nbformat_minor": 2
}
